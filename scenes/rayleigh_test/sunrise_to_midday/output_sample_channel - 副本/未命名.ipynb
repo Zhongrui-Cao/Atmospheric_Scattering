{
 "cells": [
  {
   "cell_type": "code",
   "execution_count": 1,
   "id": "a67c6ca2-ab2e-4c5a-b5c1-8d4adc5301a3",
   "metadata": {},
   "outputs": [],
   "source": [
    "import os\n"
   ]
  },
  {
   "cell_type": "code",
   "execution_count": 2,
   "id": "22f9fd63-44f8-41e2-a6cc-bea3ef7276c4",
   "metadata": {},
   "outputs": [],
   "source": [
    "directory = './'\n",
    "for filename in os.listdir(directory):\n",
    "    f = os.path.join(directory, filename)\n",
    "    # checking if it is a file\n",
    "    if os.path.isfile(f):\n",
    "        result = filename.find('s')\n",
    "        os.rename(filename, filename[0:result-1])"
   ]
  },
  {
   "cell_type": "code",
   "execution_count": 3,
   "id": "ea008c3e-c072-4fc3-a2b9-ba428b66bff1",
   "metadata": {},
   "outputs": [],
   "source": [
    "directory = './'\n",
    "for filename in os.listdir(directory):\n",
    "    f = os.path.join(directory, filename)\n",
    "    # checking if it is a file\n",
    "    if os.path.isfile(f):\n",
    "        os.rename(filename, filename + \".exr\")"
   ]
  },
  {
   "cell_type": "code",
   "execution_count": null,
   "id": "4ff536a3-abc5-475a-bc2c-2165311040a6",
   "metadata": {},
   "outputs": [],
   "source": []
  }
 ],
 "metadata": {
  "kernelspec": {
   "display_name": "Python 3",
   "language": "python",
   "name": "python3"
  },
  "language_info": {
   "codemirror_mode": {
    "name": "ipython",
    "version": 3
   },
   "file_extension": ".py",
   "mimetype": "text/x-python",
   "name": "python",
   "nbconvert_exporter": "python",
   "pygments_lexer": "ipython3",
   "version": "3.8.8"
  }
 },
 "nbformat": 4,
 "nbformat_minor": 5
}

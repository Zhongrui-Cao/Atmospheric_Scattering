{
 "cells": [
  {
   "cell_type": "code",
   "execution_count": 19,
   "id": "1da53018-a25d-4c2e-b286-6e7bb813bc96",
   "metadata": {},
   "outputs": [],
   "source": [
    "import xml.etree.ElementTree as ET\n",
    "import math \n",
    "import subprocess\n",
    "import os"
   ]
  },
  {
   "cell_type": "code",
   "execution_count": 20,
   "id": "0dfdfa5d-a6ef-4faa-b5ba-660819809ec4",
   "metadata": {},
   "outputs": [],
   "source": [
    "scene_folder = './scenes/rayleigh_test/earth_to_space'\n",
    "tree = ET.parse(scene_folder + '/template.xml')\n",
    "root = tree.getroot()"
   ]
  },
  {
   "cell_type": "code",
   "execution_count": 21,
   "id": "8f6e2de7-a1de-4561-9cc8-bbf9fb2db5c3",
   "metadata": {},
   "outputs": [],
   "source": [
    "for i in root.iter('sensor'):\n",
    "    sensor = i"
   ]
  },
  {
   "cell_type": "code",
   "execution_count": 22,
   "id": "46c60bde-c7f5-431a-ac4e-76abea053784",
   "metadata": {},
   "outputs": [],
   "source": [
    "## generate scene files with diff cam pos\n",
    "## from horizon to space\n",
    "\n",
    "for i in range(6379, 6437, 1):\n",
    "    \n",
    "    target = str(i) + \", 11000, 0\"\n",
    "    lookat = \"1, \" + str(i) + \", 1\"\n",
    "    ## Update the cam\n",
    "    sensor.find('transform').find('lookAt').set('target', target)\n",
    "    sensor.find('transform').find('lookAt').set('origin', lookat)\n",
    "    \n",
    "    name = \"id_\" + str(i) + \".xml\"\n",
    "    \n",
    "    tree.write('./scenes/rayleigh_test/earth_to_space/' + name)"
   ]
  },
  {
   "cell_type": "code",
   "execution_count": 23,
   "id": "478b53b4-d330-4047-89d3-899583f660c6",
   "metadata": {},
   "outputs": [],
   "source": [
    "## commands to run\n",
    "\n",
    "## Windows\n",
    "cmd = \"./build/Release/lajolla.exe -o \"\n",
    "## Mac\n",
    "## cmd = \n",
    "## -o test ./../../scenes/rayleigh_test/sunrise_to_midday/id_11_sun_23_deg.xml\n",
    "\n",
    "output_dir = scene_folder + \"/output/\"\n",
    "scene_dir = scene_folder + \"/\"\n",
    "\n",
    "dir_list = os.listdir(scene_folder)\n",
    "\n",
    "filenames = []\n",
    "## get filenames\n",
    "for x in dir_list:\n",
    "    if x.endswith(\".xml\") and x != \"template.xml\":\n",
    "        filenames.append(x)"
   ]
  },
  {
   "cell_type": "code",
   "execution_count": null,
   "id": "8c42f4ba-0fd5-4135-8638-2a7696208be3",
   "metadata": {},
   "outputs": [],
   "source": [
    "## run the tracer!\n",
    "progress = 0\n",
    "for scene_name in filenames:\n",
    "    output_cmd = output_dir + scene_name[:-4] + \".exr \"\n",
    "    scene_cmd = scene_dir + scene_name\n",
    "    cmd_str = cmd + output_cmd + scene_cmd\n",
    "    subprocess.run(cmd_str)\n",
    "    progress += 1\n",
    "    print(\"rendered: \" + scene_name)\n",
    "    print(\"finished \" + str(progress) + \" renders out of \" + str(len(filenames)))\n",
    "    print(\" \")"
   ]
  },
  {
   "cell_type": "code",
   "execution_count": null,
   "id": "278c130f-5bd4-479b-8196-d2bcbfc4c205",
   "metadata": {},
   "outputs": [],
   "source": []
  },
  {
   "cell_type": "code",
   "execution_count": null,
   "id": "e2ad31a2-fb38-492b-9054-85e7296d0399",
   "metadata": {},
   "outputs": [],
   "source": []
  }
 ],
 "metadata": {
  "kernelspec": {
   "display_name": "Python 3",
   "language": "python",
   "name": "python3"
  },
  "language_info": {
   "codemirror_mode": {
    "name": "ipython",
    "version": 3
   },
   "file_extension": ".py",
   "mimetype": "text/x-python",
   "name": "python",
   "nbconvert_exporter": "python",
   "pygments_lexer": "ipython3",
   "version": "3.8.8"
  }
 },
 "nbformat": 4,
 "nbformat_minor": 5
}

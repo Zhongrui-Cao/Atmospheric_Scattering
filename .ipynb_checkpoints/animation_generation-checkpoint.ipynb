{
 "cells": [
  {
   "cell_type": "code",
   "execution_count": 136,
   "id": "1da53018-a25d-4c2e-b286-6e7bb813bc96",
   "metadata": {},
   "outputs": [],
   "source": [
    "import xml.etree.ElementTree as ET\n",
    "import math \n",
    "import subprocess\n",
    "import os"
   ]
  },
  {
   "cell_type": "code",
   "execution_count": 137,
   "id": "0dfdfa5d-a6ef-4faa-b5ba-660819809ec4",
   "metadata": {},
   "outputs": [],
   "source": [
    "scene_folder = './scenes/rayleigh_test/sunrise_to_midday'\n",
    "tree = ET.parse(scene_folder + '/template.xml')\n",
    "root = tree.getroot()"
   ]
  },
  {
   "cell_type": "code",
   "execution_count": 138,
   "id": "8f6e2de7-a1de-4561-9cc8-bbf9fb2db5c3",
   "metadata": {},
   "outputs": [],
   "source": [
    "count = 0\n",
    "for i in root.iter('shape'):\n",
    "    if count == 0:\n",
    "        atmosphere = i\n",
    "    if count == 1:\n",
    "        earth = i\n",
    "    if count == 2:\n",
    "        sun = i\n",
    "    count += 1"
   ]
  },
  {
   "cell_type": "code",
   "execution_count": 139,
   "id": "46c60bde-c7f5-431a-ac4e-76abea053784",
   "metadata": {},
   "outputs": [],
   "source": [
    "## generate scene files with diff sun pos\n",
    "## from -10deg under horizon to 90deg middle of day\n",
    "\n",
    "i = 0\n",
    "r = 150000000\n",
    "for theta in range(-10, 90, 1):\n",
    "    ## convert polar to xy\n",
    "    radians = math.radians(theta)\n",
    "    x = r * math.cos(radians)\n",
    "    y = r * math.sin(radians)\n",
    "    \n",
    "    ## Update the sun position\n",
    "    sun.find('point').set('x', str(x))\n",
    "    sun.find('point').set('y', str(y))\n",
    "    \n",
    "    name = \"id_\" + str(i) + \"_sun_\" + str(theta) + \"_deg.xml\"\n",
    "    \n",
    "    tree.write('./scenes/rayleigh_test/sunrise_to_midday/' + name)\n",
    "    \n",
    "    i += 1"
   ]
  },
  {
   "cell_type": "code",
   "execution_count": 140,
   "id": "478b53b4-d330-4047-89d3-899583f660c6",
   "metadata": {},
   "outputs": [],
   "source": [
    "## commands to run\n",
    "\n",
    "## Windows\n",
    "cmd = \"./build/Release/lajolla.exe -o \"\n",
    "## Mac\n",
    "## cmd = \n",
    "## -o test ./../../scenes/rayleigh_test/sunrise_to_midday/id_11_sun_23_deg.xml\n",
    "\n",
    "output_dir = scene_folder + \"/output/\"\n",
    "scene_dir = scene_folder + \"/\"\n",
    "\n",
    "dir_list = os.listdir(scene_folder)\n",
    "\n",
    "filenames = []\n",
    "## get filenames\n",
    "for x in dir_list:\n",
    "    if x.endswith(\".xml\") and x != \"template.xml\":\n",
    "        filenames.append(x)"
   ]
  },
  {
   "cell_type": "code",
   "execution_count": 130,
   "id": "8c42f4ba-0fd5-4135-8638-2a7696208be3",
   "metadata": {},
   "outputs": [
    {
     "name": "stdout",
     "output_type": "stream",
     "text": [
      "./build/Release/lajolla.exe -o ./scenes/rayleigh_test/sunrise_to_midday/output/id_9_sun_17_deg.exr ./scenes/rayleigh_test/sunrise_to_midday/id_9_sun_17_deg.xml\n"
     ]
    },
    {
     "data": {
      "text/plain": [
       "CompletedProcess(args='./build/Release/lajolla.exe -o ./scenes/rayleigh_test/sunrise_to_midday/output/id_9_sun_17_deg.exr ./scenes/rayleigh_test/sunrise_to_midday/id_9_sun_17_deg.xml', returncode=0)"
      ]
     },
     "execution_count": 130,
     "metadata": {},
     "output_type": "execute_result"
    }
   ],
   "source": [
    "## run the tracer!\n",
    "progress = 0\n",
    "for scene_name in filenames:\n",
    "    output_cmd = output_dir + scene_name[:-4] + \".exr \"\n",
    "    scene_cmd = scene_dir + scene_name\n",
    "    cmd_str = cmd + output_cmd + scene_cmd\n",
    "    subprocess.run(cmd_str)\n",
    "    progress += 1\n",
    "    print(\"rendered: \" + scene_name)\n",
    "    print(\"finished \" + progress + \" renders out of \" + len(filenames))"
   ]
  },
  {
   "cell_type": "code",
   "execution_count": null,
   "id": "278c130f-5bd4-479b-8196-d2bcbfc4c205",
   "metadata": {},
   "outputs": [],
   "source": []
  },
  {
   "cell_type": "code",
   "execution_count": null,
   "id": "e2ad31a2-fb38-492b-9054-85e7296d0399",
   "metadata": {},
   "outputs": [],
   "source": []
  }
 ],
 "metadata": {
  "kernelspec": {
   "display_name": "Python 3",
   "language": "python",
   "name": "python3"
  },
  "language_info": {
   "codemirror_mode": {
    "name": "ipython",
    "version": 3
   },
   "file_extension": ".py",
   "mimetype": "text/x-python",
   "name": "python",
   "nbconvert_exporter": "python",
   "pygments_lexer": "ipython3",
   "version": "3.8.8"
  }
 },
 "nbformat": 4,
 "nbformat_minor": 5
}
